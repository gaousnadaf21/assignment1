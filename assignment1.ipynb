{
 "cells": [
  {
   "cell_type": "markdown",
   "id": "dbebb13f-db88-4235-b8cc-c5e0e3379610",
   "metadata": {},
   "source": [
    "#Covert a integer to a floatig-poit number"
   ]
  },
  {
   "cell_type": "code",
   "execution_count": 2,
   "id": "65395641-5038-47a2-8e5c-892830612c01",
   "metadata": {},
   "outputs": [],
   "source": [
    "my_integer = 21\n",
    "my_float = float (my_integer)"
   ]
  },
  {
   "cell_type": "code",
   "execution_count": 3,
   "id": "2257ff38-fbd6-4401-b03d-98caaf8a131e",
   "metadata": {},
   "outputs": [
    {
     "name": "stdout",
     "output_type": "stream",
     "text": [
      "21.0\n"
     ]
    }
   ],
   "source": [
    "print(my_float)"
   ]
  },
  {
   "cell_type": "code",
   "execution_count": 4,
   "id": "687b3f3e-6624-4be8-81ff-f2d27efcbc60",
   "metadata": {},
   "outputs": [
    {
     "data": {
      "text/plain": [
       "float"
      ]
     },
     "execution_count": 4,
     "metadata": {},
     "output_type": "execute_result"
    }
   ],
   "source": [
    "type(my_float)\n"
   ]
  },
  {
   "cell_type": "markdown",
   "id": "b5ae10fd-a9d6-4605-a8b1-fc319e31b00f",
   "metadata": {},
   "source": [
    "#Covert a float to a integer "
   ]
  },
  {
   "cell_type": "code",
   "execution_count": 7,
   "id": "6b985d86-c5f2-4841-9bb8-e2942bd3bd02",
   "metadata": {},
   "outputs": [],
   "source": [
    "my_float = 11.22\n",
    "my_integer = int(my_float)"
   ]
  },
  {
   "cell_type": "code",
   "execution_count": 8,
   "id": "6c888874-35f9-4e90-895d-591402afabb4",
   "metadata": {},
   "outputs": [
    {
     "name": "stdout",
     "output_type": "stream",
     "text": [
      "11\n"
     ]
    }
   ],
   "source": [
    "print(my_integer)"
   ]
  },
  {
   "cell_type": "code",
   "execution_count": 10,
   "id": "2f0e86a5-4560-4bfb-aa66-f64ea363255d",
   "metadata": {},
   "outputs": [
    {
     "data": {
      "text/plain": [
       "int"
      ]
     },
     "execution_count": 10,
     "metadata": {},
     "output_type": "execute_result"
    }
   ],
   "source": [
    "type(my_integer)"
   ]
  },
  {
   "cell_type": "markdown",
   "id": "170dc6fa-8b99-4b73-a37e-c9c87383793d",
   "metadata": {},
   "source": [
    "#Covert a integer to a string"
   ]
  },
  {
   "cell_type": "code",
   "execution_count": 11,
   "id": "8d033be0-a296-46a2-be44-4009db35d4da",
   "metadata": {},
   "outputs": [],
   "source": [
    "my_integer = 786\n",
    "my_string = str(786)"
   ]
  },
  {
   "cell_type": "code",
   "execution_count": 12,
   "id": "e4fab1e9-6a62-4bca-82d7-cd7f26e7e15c",
   "metadata": {},
   "outputs": [
    {
     "name": "stdout",
     "output_type": "stream",
     "text": [
      "786\n"
     ]
    }
   ],
   "source": [
    "print(my_string)"
   ]
  },
  {
   "cell_type": "code",
   "execution_count": 13,
   "id": "05ab05e6-b3a1-4a02-a668-7e5aedb474d8",
   "metadata": {},
   "outputs": [
    {
     "data": {
      "text/plain": [
       "str"
      ]
     },
     "execution_count": 13,
     "metadata": {},
     "output_type": "execute_result"
    }
   ],
   "source": [
    "type(my_string)"
   ]
  },
  {
   "cell_type": "markdown",
   "id": "08bbef23-eb4d-4732-92b9-01d925c18cd3",
   "metadata": {},
   "source": [
    "#Covert a list to a tuple"
   ]
  },
  {
   "cell_type": "code",
   "execution_count": 14,
   "id": "6e944b98-bbdc-4886-b01c-6c7df2dac454",
   "metadata": {},
   "outputs": [],
   "source": [
    "my_list = [1,2,3,4,5,6,7]\n",
    "my_tuple = tuple(my_list)"
   ]
  },
  {
   "cell_type": "code",
   "execution_count": 15,
   "id": "258ce649-5054-4091-bf2e-cda3597c912f",
   "metadata": {},
   "outputs": [
    {
     "name": "stdout",
     "output_type": "stream",
     "text": [
      "(1, 2, 3, 4, 5, 6, 7)\n"
     ]
    }
   ],
   "source": [
    "print(my_tuple)"
   ]
  },
  {
   "cell_type": "code",
   "execution_count": 16,
   "id": "57f87fac-d7a2-4d64-b442-cb5fe8f8ab14",
   "metadata": {},
   "outputs": [
    {
     "data": {
      "text/plain": [
       "tuple"
      ]
     },
     "execution_count": 16,
     "metadata": {},
     "output_type": "execute_result"
    }
   ],
   "source": [
    "type(my_tuple)"
   ]
  },
  {
   "cell_type": "markdown",
   "id": "1846e983-0afd-4981-bb4c-1d1bf04bf99d",
   "metadata": {},
   "source": [
    "#Covert a tuple to a list"
   ]
  },
  {
   "cell_type": "code",
   "execution_count": null,
   "id": "2a8ba210-d513-4aba-a880-009a47ef7437",
   "metadata": {},
   "outputs": [],
   "source": [
    "my_tuple = (1,2,3,4)\n",
    "my_list = list(my_tuple)"
   ]
  },
  {
   "cell_type": "code",
   "execution_count": null,
   "id": "1c2a2542-0de7-4ffa-b741-43e69e82ade8",
   "metadata": {},
   "outputs": [],
   "source": [
    "print(my_list)"
   ]
  },
  {
   "cell_type": "code",
   "execution_count": null,
   "id": "4defc5fa-1b60-4e8e-8ff7-2846a2433dbf",
   "metadata": {},
   "outputs": [],
   "source": [
    "type (my_list)"
   ]
  },
  {
   "cell_type": "code",
   "execution_count": null,
   "id": "6ede28e3-0bc2-466f-986a-588c322bc099",
   "metadata": {},
   "outputs": [],
   "source": []
  }
 ],
 "metadata": {
  "kernelspec": {
   "display_name": "Python 3 (ipykernel)",
   "language": "python",
   "name": "python3"
  },
  "language_info": {
   "codemirror_mode": {
    "name": "ipython",
    "version": 3
   },
   "file_extension": ".py",
   "mimetype": "text/x-python",
   "name": "python",
   "nbconvert_exporter": "python",
   "pygments_lexer": "ipython3",
   "version": "3.10.8"
  }
 },
 "nbformat": 4,
 "nbformat_minor": 5
}
